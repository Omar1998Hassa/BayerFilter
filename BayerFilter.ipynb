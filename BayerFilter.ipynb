{
 "cells": [
  {
   "cell_type": "code",
   "execution_count": 1,
   "metadata": {},
   "outputs": [],
   "source": [
    "import cv2\n",
    "import numpy as np   "
   ]
  },
  {
   "cell_type": "code",
   "execution_count": 2,
   "metadata": {},
   "outputs": [],
   "source": [
    "def visualize_image(figure_name: str, img: np.ndarray):\n",
    "    cv2.imshow(figure_name, img)\n",
    "    cv2.waitKey(0)\n",
    "    cv2.destroyAllWindows()"
   ]
  },
  {
   "cell_type": "code",
   "execution_count": 6,
   "metadata": {},
   "outputs": [
    {
     "name": "stdout",
     "output_type": "stream",
     "text": [
      "(300, 204, 3)\n"
     ]
    }
   ],
   "source": [
    "# TODO: Implement your own bayer image to RGB function\n",
    "img = cv2.imread('./assets/my_image_bayer.png', cv2.IMREAD_GRAYSCALE)\n",
    "#img=np.ones((2,2))\n",
    "#visualize_image('img', img)\n",
    "h, w= img.shape \n",
    "my_RGB=np.zeros((h//2,w//2,3),dtype=np.uint8)\n",
    "print(my_RGB.shape)\n",
    "for i in range(0,h,2):\n",
    "      for j in range(0,w,2):\n",
    "            my_RGB[i//2,j//2,0]=img[i+1, j+1]\n",
    "            my_RGB[i//2,j//2,1] = ((img[i, j+1]))\n",
    "            my_RGB[i//2,j//2,2]=img[i, j]           \n",
    "visualize_image('my_RGB', my_RGB)"
   ]
  },
  {
   "cell_type": "code",
   "execution_count": 7,
   "metadata": {},
   "outputs": [
    {
     "name": "stdout",
     "output_type": "stream",
     "text": [
      "(600, 408)\n"
     ]
    }
   ],
   "source": [
    "# TODO: Implement function that convert RGB image to bayer image\n",
    "# the image returned from the above code (RGB) imaged is passed into this section to be converted into bayer image\n",
    "img = my_RGB\n",
    "h, w, z = img.shape \n",
    "my_Bayer=np.zeros((h*2,w*2),dtype=np.uint8)\n",
    "print(my_Bayer.shape)\n",
    "for i in range(0,h*2,2):\n",
    "      for j in range(0,w*2,2):\n",
    "            my_Bayer[i, j]= img[i//2, j//2, 2]\n",
    "            my_Bayer[i+1,j]= img[i//2,j//2,1]\n",
    "            my_Bayer[i,j+1]= img[i//2,j//2,1]\n",
    "            my_Bayer[i+1, j+1]=img[i//2, j//2,0]           \n",
    "visualize_image('my_Bayer', my_Bayer)      "
   ]
  },
  {
   "cell_type": "code",
   "execution_count": null,
   "metadata": {},
   "outputs": [],
   "source": []
  }
 ],
 "metadata": {
  "kernelspec": {
   "display_name": "Python 3",
   "language": "python",
   "name": "python3"
  },
  "language_info": {
   "codemirror_mode": {
    "name": "ipython",
    "version": 3
   },
   "file_extension": ".py",
   "mimetype": "text/x-python",
   "name": "python",
   "nbconvert_exporter": "python",
   "pygments_lexer": "ipython3",
   "version": "3.7.4"
  }
 },
 "nbformat": 4,
 "nbformat_minor": 4
}
